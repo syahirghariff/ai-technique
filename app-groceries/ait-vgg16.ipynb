{
 "cells": [
  {
   "cell_type": "code",
   "execution_count": 1,
   "metadata": {
    "id": "lY3GWodJEk7D"
   },
   "outputs": [],
   "source": [
    "import torch\n",
    "import torchvision\n",
    "import torchvision.transforms as transforms\n",
    "from torchvision import datasets, models\n",
    "import torch.nn as nn\n",
    "import torch.optim as optim\n",
    "import time\n",
    "import copy\n",
    "import zipfile\n",
    "import os\n",
    "import matplotlib.pyplot as plt\n",
    "import numpy as np\n",
    "from sklearn.metrics import confusion_matrix\n",
    "import itertools\n",
    "import torch.nn as nn\n",
    "from NestedImageFolder import NestedImageFolder"
   ]
  },
  {
   "cell_type": "code",
   "execution_count": 2,
   "metadata": {
    "colab": {
     "base_uri": "https://localhost:8080/"
    },
    "id": "lkMV_vtgQ50T",
    "outputId": "caa8b91d-e143-43f6-ad9e-cd0c8eec8cff"
   },
   "outputs": [],
   "source": [
    "#from google.colab import drive\n",
    "#drive.mount('/content/drive')"
   ]
  },
  {
   "cell_type": "code",
   "execution_count": 3,
   "metadata": {
    "colab": {
     "base_uri": "https://localhost:8080/"
    },
    "id": "DB-W1Dx9RkOa",
    "outputId": "f4cd023e-d8f9-4675-8b7d-0d8394125d19"
   },
   "outputs": [],
   "source": [
    "#zip_path = '/content/drive/MyDrive/AI_Techniques_Dataset.zip'\n",
    "#extract_to = '/content/drive/MyDrive/AI_Techniques_Dataset'\n",
    "\n",
    "#with zipfile.ZipFile(zip_path, 'r') as zip_ref:\n",
    "#    zip_ref.extractall(extract_to)\n",
    "\n",
    "#print(\"Extraction completed.\")\n"
   ]
  },
  {
   "cell_type": "code",
   "execution_count": 4,
   "metadata": {
    "id": "2OLQ_4fnP6sY"
   },
   "outputs": [],
   "source": [
    "data_transforms = {\n",
    "    'train': transforms.Compose([\n",
    "        transforms.Resize(256),\n",
    "        transforms.CenterCrop(224),\n",
    "        transforms.ToTensor(),\n",
    "        transforms.Normalize([0.485, 0.456, 0.406], [0.229, 0.224, 0.225])\n",
    "    ]),\n",
    "    'val': transforms.Compose([\n",
    "        transforms.Resize(256),\n",
    "        transforms.CenterCrop(224),\n",
    "        transforms.ToTensor(),\n",
    "        transforms.Normalize([0.485, 0.456, 0.406], [0.229, 0.224, 0.225])\n",
    "    ]),\n",
    "    'test': transforms.Compose([\n",
    "        transforms.Resize(256),\n",
    "        transforms.CenterCrop(224),\n",
    "        transforms.ToTensor(),\n",
    "        transforms.Normalize([0.485, 0.456, 0.406], [0.229, 0.224, 0.225])\n",
    "    ]),\n",
    "}"
   ]
  },
  {
   "cell_type": "code",
   "execution_count": 5,
   "metadata": {},
   "outputs": [],
   "source": [
    "# class NestedImageFolder(datasets.ImageFolder):\n",
    "#     def __init__(self, *args):\n",
    "#         super().__init__(*args)\n",
    "\n",
    "#     def find_classes(self, dir):\n",
    "#         it = sorted(os.walk(dir))\n",
    "    \n",
    "#         classes = [x[0][len(dir)+1:] for x in it]\n",
    "#         classes = [x for x in classes if (x.count(\"/\") == 2)]\n",
    "\n",
    "#         asdict = {}\n",
    "#         for i, k in enumerate(classes):\n",
    "#             asdict[k] = i\n",
    "        \n",
    "#         return classes, asdict\n"
   ]
  },
  {
   "cell_type": "code",
   "execution_count": 6,
   "metadata": {
    "id": "jnZBefpdQDUy"
   },
   "outputs": [],
   "source": [
    "# data_dir = 'GroceryStoreDataset/dataset'\n",
    "data_dir = '/Users/syahirghariff/Space/UM/WQF7002 AIT/Project/GroceryStoreDataset-master2/dataset'\n",
    "# image_datasets = {x: NestedImageFolder(os.path.join(data_dir, x),data_transforms[x])\n",
    "#                   for x in ['train', 'val', 'test']}\n",
    "image_datasets = {x: datasets.ImageFolder(os.path.join(data_dir, x),data_transforms[x])\n",
    "                  for x in ['train', 'val', 'test']}\n",
    "\n",
    "dataloaders = {x: torch.utils.data.DataLoader(image_datasets[x], batch_size=4, shuffle=True, num_workers=2)\n",
    "              for x in ['train', 'val', 'test']}\n",
    "\n",
    "dataset_sizes = {x: len(image_datasets[x]) for x in ['train', 'val', 'test']}\n",
    "class_names = image_datasets['train'].classes\n",
    "\n",
    "mydevice = \"cpu\"\n",
    "\n",
    "if torch.cuda.is_available():\n",
    "    mydevice = \"cuda:0\"\n",
    "elif torch.backends.mps.is_available():\n",
    "    mydevice = \"mps\"\n",
    "\n",
    "# device = torch.device(\"cuda:0\" if torch.cuda.is_available() else \"cpu\")\n",
    "device = torch.device(mydevice) "
   ]
  },
  {
   "cell_type": "code",
   "execution_count": 7,
   "metadata": {},
   "outputs": [
    {
     "data": {
      "text/plain": [
       "device(type='mps')"
      ]
     },
     "execution_count": 7,
     "metadata": {},
     "output_type": "execute_result"
    }
   ],
   "source": [
    "device"
   ]
  },
  {
   "cell_type": "code",
   "execution_count": 8,
   "metadata": {},
   "outputs": [
    {
     "data": {
      "text/plain": [
       "['Avocado', 'Orange', 'Pineapple']"
      ]
     },
     "execution_count": 8,
     "metadata": {},
     "output_type": "execute_result"
    }
   ],
   "source": [
    "class_names"
   ]
  },
  {
   "cell_type": "code",
   "execution_count": 9,
   "metadata": {
    "colab": {
     "base_uri": "https://localhost:8080/"
    },
    "id": "y5N4vYXkQHM7",
    "outputId": "20bc9802-9333-4f6c-b6f9-7580d7ae160c"
   },
   "outputs": [
    {
     "name": "stderr",
     "output_type": "stream",
     "text": [
      "/Users/syahirghariff/anaconda3/envs/ait-project/lib/python3.11/site-packages/torchvision/models/_utils.py:208: UserWarning: The parameter 'pretrained' is deprecated since 0.13 and may be removed in the future, please use 'weights' instead.\n",
      "  warnings.warn(\n",
      "/Users/syahirghariff/anaconda3/envs/ait-project/lib/python3.11/site-packages/torchvision/models/_utils.py:223: UserWarning: Arguments other than a weight enum or `None` for 'weights' are deprecated since 0.13 and may be removed in the future. The current behavior is equivalent to passing `weights=VGG16_Weights.IMAGENET1K_V1`. You can also use `weights=VGG16_Weights.DEFAULT` to get the most up-to-date weights.\n",
      "  warnings.warn(msg)\n"
     ]
    }
   ],
   "source": [
    "model = models.vgg16(pretrained=True)\n",
    "\n",
    "for param in model.features.parameters():\n",
    "    param.requires_grad = False\n",
    "\n",
    "num_features = model.classifier[6].in_features\n",
    "features = list(model.classifier.children())[:-1]\n",
    "features.extend([nn.Linear(num_features, len(class_names))])\n",
    "model.classifier = nn.Sequential(*features)\n",
    "\n",
    "mydevice = \"cpu\"\n",
    "\n",
    "if torch.cuda.is_available():\n",
    "    mydevice = \"cuda:0\"\n",
    "elif torch.backends.mps.is_available():\n",
    "    mydevice = \"mps\"\n",
    "\n",
    "device = torch.device(mydevice) \n",
    "# device = torch.device(\"cuda:0\" if torch.cuda.is_available() else \"cpu\")\n",
    "model = model.to(device)"
   ]
  },
  {
   "cell_type": "code",
   "execution_count": 10,
   "metadata": {
    "id": "XEiVg9uoQL52"
   },
   "outputs": [],
   "source": [
    "criterion = nn.CrossEntropyLoss()\n",
    "optimizer_ft = torch.optim.Adam(model.parameters(), lr=0.001)\n",
    "\n",
    "def train_model(model, criterion, optimizer, num_epochs=25):\n",
    "    since = time.time()\n",
    "\n",
    "    best_model_wts = copy.deepcopy(model.state_dict())\n",
    "    best_acc = 0.0\n",
    "\n",
    "    train_acc, val_acc = [], []\n",
    "\n",
    "    for epoch in range(num_epochs):\n",
    "        print(f'Epoch {epoch}/{num_epochs - 1}')\n",
    "        print('-' * 10)\n",
    "\n",
    "        for phase in ['train', 'val']:\n",
    "            if phase == 'train':\n",
    "                model.train()\n",
    "            else:\n",
    "                model.eval()\n",
    "\n",
    "            running_loss = 0.0\n",
    "            running_corrects = 0\n",
    "\n",
    "            for inputs, labels in dataloaders[phase]:\n",
    "                inputs = inputs.to(device)\n",
    "                labels = labels.to(device)\n",
    "\n",
    "                optimizer.zero_grad()\n",
    "\n",
    "                with torch.set_grad_enabled(phase == 'train'):\n",
    "                    outputs = model(inputs)\n",
    "                    _, preds = torch.max(outputs, 1)\n",
    "                    loss = criterion(outputs, labels)\n",
    "\n",
    "                    if phase == 'train':\n",
    "                        loss.backward()\n",
    "                        optimizer.step()\n",
    "\n",
    "                running_loss += loss.item() * inputs.size(0)\n",
    "                running_corrects += torch.sum(preds == labels.data)\n",
    "\n",
    "            epoch_loss = running_loss / dataset_sizes[phase]\n",
    "            epoch_acc = running_corrects.float() / dataset_sizes[phase]\n",
    "            # epoch_acc = epoch_acc.float()\n",
    "\n",
    "            print(f'{phase} Loss: {epoch_loss:.4f} Acc: {epoch_acc:.4f}')\n",
    "\n",
    "            if phase == 'train':\n",
    "              train_acc.append(epoch_acc.item())\n",
    "            else:\n",
    "              val_acc.append(epoch_acc.item())\n",
    "\n",
    "            if phase == 'val' and epoch_acc > best_acc:\n",
    "                best_acc = epoch_acc\n",
    "                best_model_wts = copy.deepcopy(model.state_dict())\n",
    "\n",
    "        print()\n",
    "\n",
    "    time_elapsed = time.time() - since\n",
    "    print(f'Training complete in {time_elapsed // 60:.0f}m {time_elapsed % 60:.0f}s')\n",
    "    print(f'Best val Acc: {best_acc:4f}')\n",
    "\n",
    "    model.load_state_dict(best_model_wts)\n",
    "    return model, train_acc, val_acc"
   ]
  },
  {
   "cell_type": "code",
   "execution_count": 11,
   "metadata": {
    "colab": {
     "base_uri": "https://localhost:8080/"
    },
    "id": "hzFQYBuMQPPa",
    "outputId": "bc6d9ae1-7a74-4647-f6b5-86f1e000bf17"
   },
   "outputs": [
    {
     "name": "stdout",
     "output_type": "stream",
     "text": [
      "Epoch 0/24\n",
      "----------\n",
      "train Loss: 1.5104 Acc: 0.9032\n",
      "val Loss: 75.3735 Acc: 0.3500\n",
      "\n",
      "Epoch 1/24\n",
      "----------\n",
      "train Loss: 0.9223 Acc: 0.9516\n",
      "val Loss: 188.0190 Acc: 0.4000\n",
      "\n",
      "Epoch 2/24\n",
      "----------\n",
      "train Loss: 0.3564 Acc: 0.9919\n",
      "val Loss: 90.2593 Acc: 0.5000\n",
      "\n",
      "Epoch 3/24\n",
      "----------\n",
      "train Loss: 10.6317 Acc: 0.9194\n",
      "val Loss: 644.2318 Acc: 0.2000\n",
      "\n",
      "Epoch 4/24\n",
      "----------\n",
      "train Loss: 0.0304 Acc: 0.9919\n",
      "val Loss: 636.9729 Acc: 0.3000\n",
      "\n",
      "Epoch 5/24\n",
      "----------\n",
      "train Loss: 0.0000 Acc: 1.0000\n",
      "val Loss: 604.8754 Acc: 0.4000\n",
      "\n",
      "Epoch 6/24\n",
      "----------\n",
      "train Loss: 0.0000 Acc: 1.0000\n",
      "val Loss: 603.5619 Acc: 0.4000\n",
      "\n",
      "Epoch 7/24\n",
      "----------\n",
      "train Loss: 0.0000 Acc: 1.0000\n",
      "val Loss: 603.5075 Acc: 0.4000\n",
      "\n",
      "Epoch 8/24\n",
      "----------\n",
      "train Loss: 0.0000 Acc: 1.0000\n",
      "val Loss: 603.5049 Acc: 0.4000\n",
      "\n",
      "Epoch 9/24\n",
      "----------\n",
      "train Loss: 0.0000 Acc: 1.0000\n",
      "val Loss: 603.5049 Acc: 0.4000\n",
      "\n",
      "Epoch 10/24\n",
      "----------\n",
      "train Loss: 0.0000 Acc: 1.0000\n",
      "val Loss: 603.5049 Acc: 0.4000\n",
      "\n",
      "Epoch 11/24\n",
      "----------\n",
      "train Loss: 0.0000 Acc: 1.0000\n",
      "val Loss: 603.5049 Acc: 0.4000\n",
      "\n",
      "Epoch 12/24\n",
      "----------\n",
      "train Loss: 0.0000 Acc: 1.0000\n",
      "val Loss: 603.5049 Acc: 0.4000\n",
      "\n",
      "Epoch 13/24\n",
      "----------\n",
      "train Loss: 0.0000 Acc: 1.0000\n",
      "val Loss: 603.5049 Acc: 0.4000\n",
      "\n",
      "Epoch 14/24\n",
      "----------\n",
      "train Loss: 0.0000 Acc: 1.0000\n",
      "val Loss: 603.5049 Acc: 0.4000\n",
      "\n",
      "Epoch 15/24\n",
      "----------\n",
      "train Loss: 0.0000 Acc: 1.0000\n",
      "val Loss: 603.5049 Acc: 0.4000\n",
      "\n",
      "Epoch 16/24\n",
      "----------\n",
      "train Loss: 0.0000 Acc: 1.0000\n",
      "val Loss: 603.5049 Acc: 0.4000\n",
      "\n",
      "Epoch 17/24\n",
      "----------\n",
      "train Loss: 0.0000 Acc: 1.0000\n",
      "val Loss: 603.5049 Acc: 0.4000\n",
      "\n",
      "Epoch 18/24\n",
      "----------\n",
      "train Loss: 0.0000 Acc: 1.0000\n",
      "val Loss: 603.5049 Acc: 0.4000\n",
      "\n",
      "Epoch 19/24\n",
      "----------\n",
      "train Loss: 0.0000 Acc: 1.0000\n",
      "val Loss: 603.5049 Acc: 0.4000\n",
      "\n",
      "Epoch 20/24\n",
      "----------\n",
      "train Loss: 0.0000 Acc: 1.0000\n",
      "val Loss: 603.5049 Acc: 0.4000\n",
      "\n",
      "Epoch 21/24\n",
      "----------\n",
      "train Loss: 0.0000 Acc: 1.0000\n",
      "val Loss: 603.5049 Acc: 0.4000\n",
      "\n",
      "Epoch 22/24\n",
      "----------\n",
      "train Loss: 0.0000 Acc: 1.0000\n",
      "val Loss: 603.5049 Acc: 0.4000\n",
      "\n",
      "Epoch 23/24\n",
      "----------\n",
      "train Loss: 0.0000 Acc: 1.0000\n",
      "val Loss: 603.5049 Acc: 0.4000\n",
      "\n",
      "Epoch 24/24\n",
      "----------\n",
      "train Loss: 0.0000 Acc: 1.0000\n",
      "val Loss: 603.5049 Acc: 0.4000\n",
      "\n",
      "Training complete in 12m 52s\n",
      "Best val Acc: 0.500000\n"
     ]
    }
   ],
   "source": [
    "model, train_acc, val_acc = train_model(model, criterion, optimizer_ft, num_epochs=25)"
   ]
  },
  {
   "cell_type": "code",
   "execution_count": 12,
   "metadata": {
    "colab": {
     "base_uri": "https://localhost:8080/",
     "height": 564
    },
    "id": "tFzUVBFfX4KJ",
    "outputId": "5efc4223-3590-4a65-d9b4-d3ccf4f2c5d7"
   },
   "outputs": [
    {
     "data": {
      "image/png": "[encoded data removed]",
      "text/plain": [
       "<Figure size 1000x600 with 1 Axes>"
      ]
     },
     "metadata": {},
     "output_type": "display_data"
    }
   ],
   "source": [
    "plt.figure(figsize=(10, 6))\n",
    "plt.plot(train_acc, label='Training Accuracy')\n",
    "plt.plot(val_acc, label='Validation Accuracy')\n",
    "plt.xlabel('Epochs')\n",
    "plt.ylabel('Accuracy')\n",
    "plt.title('Training and Validation Accuracy')\n",
    "plt.legend()\n",
    "plt.show()"
   ]
  },
  {
   "cell_type": "code",
   "execution_count": 13,
   "metadata": {
    "id": "Omwsm-quX_Sl"
   },
   "outputs": [],
   "source": [
    "def plot_confusion_matrix(cm, classes,\n",
    "                          normalize=False,\n",
    "                          title='Confusion matrix',\n",
    "                          cmap=plt.cm.Blues):\n",
    "\n",
    "    plt.imshow(cm, interpolation='nearest', cmap=cmap)\n",
    "    plt.title(title)\n",
    "    plt.colorbar()\n",
    "    tick_marks = np.arange(len(classes))\n",
    "    plt.xticks(tick_marks, classes, rotation=45)\n",
    "    plt.yticks(tick_marks, classes)\n",
    "\n",
    "    if normalize:\n",
    "        cm = cm.astype('float') / cm.sum(axis=1)[:, np.newaxis]\n",
    "\n",
    "    thresh = cm.max() / 2.\n",
    "    for i, j in itertools.product(range(cm.shape[0]), range(cm.shape[1])):\n",
    "        plt.text(j, i, cm[i, j],\n",
    "                 horizontalalignment=\"center\",\n",
    "                 color=\"white\" if cm[i, j] > thresh else \"black\")\n",
    "\n",
    "    plt.tight_layout()\n",
    "    plt.ylabel('True label')\n",
    "    plt.xlabel('Predicted label')"
   ]
  },
  {
   "cell_type": "code",
   "execution_count": 14,
   "metadata": {
    "id": "pqHddF2XQSE0"
   },
   "outputs": [],
   "source": [
    "def test_model(model):\n",
    "    model.eval()\n",
    "    running_corrects = 0\n",
    "    preds_all, labels_all = [], []\n",
    "\n",
    "    for inputs, labels in dataloaders['test']:\n",
    "        inputs = inputs.to(device)\n",
    "        labels = labels.to(device)\n",
    "\n",
    "        with torch.no_grad():\n",
    "            outputs = model(inputs)\n",
    "            _, preds = torch.max(outputs, 1)\n",
    "\n",
    "        running_corrects += torch.sum(preds == labels.data)\n",
    "        preds_all.extend(preds.view(-1).tolist())\n",
    "        labels_all.extend(labels.view(-1).tolist())\n",
    "\n",
    "    test_acc = running_corrects.float() / dataset_sizes['test']\n",
    "    print(f'Test Acc: {test_acc:.4f}')\n",
    "\n",
    "    cm = confusion_matrix(labels_all, preds_all)\n",
    "    plot_confusion_matrix(cm, class_names)"
   ]
  },
  {
   "cell_type": "code",
   "execution_count": 15,
   "metadata": {
    "colab": {
     "base_uri": "https://localhost:8080/",
     "height": 524
    },
    "id": "ZXIAh4P8QTwb",
    "outputId": "3279e28e-44bd-4691-a62a-05aaaf78bf31"
   },
   "outputs": [
    {
     "name": "stdout",
     "output_type": "stream",
     "text": [
      "Test Acc: 0.9174\n"
     ]
    },
    {
     "data": {
      "image/png": "[encoded data removed]",
      "text/plain": [
       "<Figure size 640x480 with 2 Axes>"
      ]
     },
     "metadata": {},
     "output_type": "display_data"
    }
   ],
   "source": [
    "test_model(model)"
   ]
  },
  {
   "cell_type": "code",
   "execution_count": 16,
   "metadata": {},
   "outputs": [],
   "source": [
    "# data_transforms2 = {\n",
    "#     'predict': transforms.Compose([\n",
    "#         transforms.Resize(256),\n",
    "#         transforms.CenterCrop(224),\n",
    "#         transforms.ToTensor(),\n",
    "#         transforms.Normalize([0.485, 0.456, 0.406], [0.229, 0.224, 0.225])\n",
    "#     ]),\n",
    "\n",
    "# def predict(base64_string):\n",
    "#     image_data = base64.b64decode(base64_string)\n",
    "#     img = Image.open(BytesIO(image_data))\n",
    "#     img = data_transforms2['predict'](img) \n",
    "    # model.eval()\n",
    "    # running_corrects = 0\n",
    "    # preds_all, labels_all = [], []\n",
    "\n",
    "    # for inputs, labels in dataloaders['test']:\n",
    "    #     inputs = inputs.to(device)\n",
    "    #     labels = labels.to(device)\n",
    "\n",
    "    #     with torch.no_grad():\n",
    "    #         outputs = model(inputs)\n",
    "    #         _, preds = torch.max(outputs, 1)\n",
    "\n",
    "    #     running_corrects += torch.sum(preds == labels.data)\n",
    "    #     preds_all.extend(preds.view(-1).tolist())\n",
    "    #     labels_all.extend(labels.view(-1).tolist())\n",
    "\n",
    "    # test_acc = running_corrects.float() / dataset_sizes['test']\n",
    "    # print(f'Test Acc: {test_acc:.4f}')\n",
    "\n",
    "    # cm = confusion_matrix(labels_all, preds_all)\n",
    "    # plot_confusion_matrix(cm, class_names)"
   ]
  },
  {
   "cell_type": "code",
   "execution_count": 17,
   "metadata": {},
   "outputs": [],
   "source": [
    "import torch\n",
    "torch.save(model.state_dict(), 'vgg_fruit_classifier2.pth')"
   ]
  },
  {
   "cell_type": "code",
   "execution_count": 18,
   "metadata": {},
   "outputs": [],
   "source": [
    "import pickle\n",
    "pickle.dump(model, open('model2.pkl', 'wb'))"
   ]
  },
  {
   "cell_type": "code",
   "execution_count": null,
   "metadata": {},
   "outputs": [],
   "source": []
  }
 ],
 "metadata": {
  "accelerator": "GPU",
  "colab": {
   "gpuType": "T4",
   "provenance": []
  },
  "kernelspec": {
   "display_name": "ait-project",
   "language": "python",
   "name": "ait-project"
  },
  "language_info": {
   "codemirror_mode": {
    "name": "ipython",
    "version": 3
   },
   "file_extension": ".py",
   "mimetype": "text/x-python",
   "name": "python",
   "nbconvert_exporter": "python",
   "pygments_lexer": "ipython3",
   "version": "3.11.7"
  }
 },
 "nbformat": 4,
 "nbformat_minor": 4
}
